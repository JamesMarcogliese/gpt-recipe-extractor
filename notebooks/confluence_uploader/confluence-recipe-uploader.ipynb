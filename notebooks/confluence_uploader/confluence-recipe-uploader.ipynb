{
 "cells": [
  {
   "cell_type": "markdown",
   "metadata": {},
   "source": [
    "# Confluence Recipe Uploader"
   ]
  },
  {
   "cell_type": "markdown",
   "metadata": {},
   "source": [
    "## Imports"
   ]
  },
  {
   "cell_type": "code",
   "execution_count": 31,
   "metadata": {},
   "outputs": [],
   "source": [
    "import requests\n",
    "from requests.auth import HTTPBasicAuth\n",
    "import os\n",
    "import re"
   ]
  },
  {
   "cell_type": "markdown",
   "metadata": {},
   "source": [
    "## Configurations"
   ]
  },
  {
   "cell_type": "code",
   "execution_count": null,
   "metadata": {},
   "outputs": [],
   "source": [
    "# Confluence API endpoint and authentication credentials\n",
    "CONFLUENCE_API_URL = \"https://FILL.atlassian.net/wiki/api/v2/pages\"\n",
    "CONFLUENCE_USERNAME = \"FILL\"\n",
    "API_TOKEN = \"FILL\"\n",
    "\n",
    "# Confluence space ID where you want to create pages\n",
    "SPACE_ID = \"FILL\"\n",
    "\n",
    "# ID of the parent page within which you want to create new pages\n",
    "PARENT_PAGE_ID = \"FILL\"  # Replace with the actual parent page ID\n",
    "\n",
    "# Path to the folder containing your Markdown recipes\n",
    "MARKDOWN_FOLDER = \"FILL\""
   ]
  },
  {
   "cell_type": "markdown",
   "metadata": {},
   "source": [
    "## Functions"
   ]
  },
  {
   "cell_type": "code",
   "execution_count": 35,
   "metadata": {},
   "outputs": [
    {
     "name": "stdout",
     "output_type": "stream",
     "text": [
      "Page 'Cheesy and Creamy Fennel Gratin' already exists. Skipping.\n",
      "Page 'Maricel Presilla’s Salad Is a Symphony of Sweet an' created successfully within parent page ID 65881.\n",
      "Page 'Caramelized Banana Pie' created successfully within parent page ID 65881.\n",
      "Page 'Turkish Braised Beans with Potatoes and Carrots' created successfully within parent page ID 65881.\n",
      "Page 'Shrimp with Mango, Coconut and Mustard Seeds' created successfully within parent page ID 65881.\n",
      "Page 'Spanish Beef Stew with Mushrooms and Sherry' created successfully within parent page ID 65881.\n",
      "Page 'Creamy Lemon Noodles' created successfully within parent page ID 65881.\n",
      "Page 'German Butternut Brioche' created successfully within parent page ID 65881.\n",
      "Page 'Peruvian-Style Pasta with Creamy Pepper and Cheese' created successfully within parent page ID 65881.\n",
      "Page 'Japanese-Style Chicken & Vegetable Curry' created successfully within parent page ID 65881.\n",
      "Page 'Cuban-Style Egg-Stuffed Meatloaf with Spicy Tomato' created successfully within parent page ID 65881.\n",
      "Page 'Chickpea, Chorizo and Spinach Soup' created successfully within parent page ID 65881.\n",
      "Page 'Korean Stir-Fried Mushrooms' created successfully within parent page ID 65881.\n",
      "Page 'Brussels Sprouts with Apples and Bacon' created successfully within parent page ID 65881.\n",
      "Page 'Ethiopian-Style Sautéed Beef, Onion and Chilies' created successfully within parent page ID 65881.\n",
      "Page 'Charred Habanero Salsa' created successfully within parent page ID 65881.\n",
      "Page 'Stir-Fried Pork and Sweet Peppers with Peanuts' created successfully within parent page ID 65881.\n",
      "Page 'Liberian Stewed Greens with Chicken and Fresh Chil' created successfully within parent page ID 65881.\n",
      "Page 'Chicken and Vegetable Soup with Chipotle Chilies (' created successfully within parent page ID 65881.\n",
      "Page 'Red Chili Sambal Potatoes' created successfully within parent page ID 65881.\n",
      "Page 'Hoisin-Ginger Noodles' created successfully within parent page ID 65881.\n",
      "Page 'Spaghetti with Clams (Spaghetti con Vongole)' created successfully within parent page ID 65881.\n",
      "All done!\n"
     ]
    }
   ],
   "source": [
    "auth = HTTPBasicAuth(CONFLUENCE_USERNAME, API_TOKEN)\n",
    "\n",
    "# Function to check if a Confluence page with a given title already exists\n",
    "def page_exists(title):\n",
    "    headers = {\"Accept\": \"application/json\"}\n",
    "    params = {\n",
    "        \"spaceId\": SPACE_ID,\n",
    "        \"title\": title\n",
    "    }\n",
    "    response = requests.get(CONFLUENCE_API_URL, headers=headers, params=params, auth=auth)\n",
    "\n",
    "    if response.status_code == 200:\n",
    "        data = response.json()\n",
    "        return len(data.get(\"results\")) > 0\n",
    "\n",
    "    return False\n",
    "\n",
    "# Function to create a new Confluence page from a Markdown file within a parent page\n",
    "def create_page_within_parent(title, content):\n",
    "    headers = {\n",
    "        \"Accept\": \"application/json\",\n",
    "        \"Content-Type\": \"application/json\",\n",
    "    }\n",
    "\n",
    "    payload = {\n",
    "        \"type\": \"page\",\n",
    "        \"title\": title,\n",
    "        \"spaceId\": SPACE_ID,\n",
    "        \"parentId\": PARENT_PAGE_ID,\n",
    "        \"status\": \"current\",\n",
    "        \"body\": {\n",
    "            \"value\": content,\n",
    "            \"representation\": \"wiki\"\n",
    "        },\n",
    "    }\n",
    "\n",
    "    response = requests.post(CONFLUENCE_API_URL, headers=headers, json=payload, auth=auth)\n",
    "\n",
    "    if response.status_code == 200:\n",
    "        print(f\"Page '{title}' created successfully within parent page ID {PARENT_PAGE_ID}.\")\n",
    "    else:\n",
    "        print(f\"Failed to create page '{title}' with status code {response.status_code}: {response.text}\")\n",
    "        \n",
    "def markdown_to_confluence(markdown_text):\n",
    "    \"\"\"\n",
    "    Converts Markdown text to Confluence Wiki Markup.\n",
    "    \"\"\"\n",
    "\n",
    "    # Convert headers\n",
    "    # Confluence Wiki Markup uses \"h1.\", \"h2.\", etc. for headers.\n",
    "    markdown_text = re.sub(r'^#{1} (.*)', r'h1. \\1', markdown_text, flags=re.MULTILINE)  # h1\n",
    "    markdown_text = re.sub(r'^#{2} (.*)', r'h2. \\1', markdown_text, flags=re.MULTILINE)  # h2\n",
    "    markdown_text = re.sub(r'^#{3} (.*)', r'h3. \\1', markdown_text, flags=re.MULTILINE)  # h3\n",
    "    # Add more patterns for h4, h5, etc., if needed\n",
    "\n",
    "    # Convert bullet points\n",
    "    # Confluence uses \"*\" for bullet lists.\n",
    "    markdown_text = re.sub(r'^- (.*)', r'* \\1', markdown_text, flags=re.MULTILINE)\n",
    "\n",
    "    # Additional conversions can be added here (italic, bold, links, images, etc.)\n",
    "\n",
    "    return markdown_text\n",
    "\n",
    "# Iterate through Markdown files in the folder\n",
    "for filename in os.listdir(MARKDOWN_FOLDER):\n",
    "    if filename.endswith(\".md\"):\n",
    "        # Read the content of the Markdown file\n",
    "        with open(os.path.join(MARKDOWN_FOLDER, filename), \"r\", encoding=\"utf-8\") as file:\n",
    "            content = file.read()\n",
    "        \n",
    "        # Use the filename (without extension) as the page title\n",
    "        page_title = os.path.splitext(filename)[0]\n",
    "\n",
    "        # Check if the page already exists, and create it within the parent page if not\n",
    "        if not page_exists(page_title):\n",
    "            create_page_within_parent(page_title, markdown_to_confluence(content))\n",
    "        else:\n",
    "            print(f\"Page '{page_title}' already exists. Skipping.\")\n",
    "\n",
    "print(\"All done!\")"
   ]
  }
 ],
 "metadata": {
  "kernelspec": {
   "display_name": "base",
   "language": "python",
   "name": "python3"
  },
  "language_info": {
   "codemirror_mode": {
    "name": "ipython",
    "version": 3
   },
   "file_extension": ".py",
   "mimetype": "text/x-python",
   "name": "python",
   "nbconvert_exporter": "python",
   "pygments_lexer": "ipython3",
   "version": "3.9.13"
  }
 },
 "nbformat": 4,
 "nbformat_minor": 2
}
