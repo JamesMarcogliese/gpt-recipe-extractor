{
 "cells": [
  {
   "cell_type": "markdown",
   "metadata": {},
   "source": [
    "# GPT Recipe Extractor"
   ]
  },
  {
   "cell_type": "markdown",
   "metadata": {},
   "source": [
    "## Imports"
   ]
  },
  {
   "cell_type": "code",
   "execution_count": 1,
   "metadata": {},
   "outputs": [],
   "source": [
    "import base64\n",
    "import requests\n",
    "import os\n",
    "import json\n",
    "import re\n",
    "from pathlib import Path\n",
    "import time"
   ]
  },
  {
   "cell_type": "code",
   "execution_count": 3,
   "metadata": {},
   "outputs": [],
   "source": [
    "# load our key\n",
    "api_key = open(\"key.txt\", \"r\").read().strip(\"\\n\")"
   ]
  },
  {
   "cell_type": "markdown",
   "metadata": {},
   "source": [
    "## Configs"
   ]
  },
  {
   "cell_type": "code",
   "execution_count": 4,
   "metadata": {},
   "outputs": [],
   "source": [
    "# Source and destination folders\n",
    "source_folder_single_page = 'input_images_single'\n",
    "source_folder_multi_page = 'input_images_multi'\n",
    "destination_folder = 'output_markdown'\n",
    "\n",
    "MAX_TOKENS = 4096\n",
    "max_retries = 5"
   ]
  },
  {
   "cell_type": "code",
   "execution_count": 5,
   "metadata": {},
   "outputs": [],
   "source": [
    "extraction_prompt = \"\"\"\n",
    "Attached is a magazine page containing one or more recipes. Please extract the following for each recipe in markdown format:\n",
    "-Recipe name (with Heading level 1)\n",
    "-Preparation time (with Heading level 2)\n",
    "-Servings (with Heading level 2)\n",
    "-Ingredients (with Heading level 2)\n",
    "-Instructions (with Heading level 2)\n",
    "-Cuisine name inferred from recipe (with Heading level 2)\n",
    "-Tips (with Heading level 2)\n",
    "\"\"\""
   ]
  },
  {
   "cell_type": "markdown",
   "metadata": {},
   "source": [
    "## Shared Functions"
   ]
  },
  {
   "cell_type": "code",
   "execution_count": 6,
   "metadata": {},
   "outputs": [],
   "source": [
    "# Function to encode the image\n",
    "def encode_image(image_path):\n",
    "    with open(image_path, \"rb\") as image_file:\n",
    "        return base64.b64encode(image_file.read()).decode('utf-8')\n",
    "\n",
    "# Function to save markdown to file\n",
    "def save_markdown(markdown, destination_folder):\n",
    "    # Split the markdown into individual recipes\n",
    "    recipes = re.split(r'\\n# ', markdown)\n",
    "\n",
    "    for i, recipe in enumerate(recipes):\n",
    "        # Add back the removed heading\n",
    "        if i > 0:\n",
    "            recipe = '# ' + recipe\n",
    "\n",
    "        # Extract the heading from the recipe\n",
    "        heading = re.search(r'^# (.*)$', recipe, re.MULTILINE)\n",
    "        if heading:\n",
    "            filename = heading.group(1) + '.md'\n",
    "        else:\n",
    "            filename = f'default{i}.md'\n",
    "        \n",
    "        # Save the recipe to a file\n",
    "        with open(os.path.join(destination_folder, filename), 'w') as f:\n",
    "            f.write(recipe)"
   ]
  },
  {
   "cell_type": "markdown",
   "metadata": {},
   "source": [
    "## Process Single Page Recipes"
   ]
  },
  {
   "cell_type": "code",
   "execution_count": 13,
   "metadata": {},
   "outputs": [
    {
     "name": "stdout",
     "output_type": "stream",
     "text": [
      "Request failed. Waiting for 1 seconds before retrying...\n",
      "Request failed. Waiting for 2 seconds before retrying...\n",
      "Request failed. Waiting for 1 seconds before retrying...\n",
      "Request failed. Waiting for 2 seconds before retrying...\n",
      "Request failed. Waiting for 4 seconds before retrying...\n",
      "Request failed. Waiting for 1 seconds before retrying...\n",
      "Request failed. Waiting for 2 seconds before retrying...\n",
      "Request failed. Waiting for 1 seconds before retrying...\n",
      "Request failed. Waiting for 2 seconds before retrying...\n",
      "Request failed. Waiting for 4 seconds before retrying...\n",
      "Request failed. Waiting for 1 seconds before retrying...\n",
      "Request failed. Waiting for 2 seconds before retrying...\n",
      "Request failed. Waiting for 4 seconds before retrying...\n",
      "Request failed. Waiting for 1 seconds before retrying...\n",
      "Request failed. Waiting for 2 seconds before retrying...\n",
      "Request failed. Waiting for 4 seconds before retrying...\n",
      "Request failed. Waiting for 1 seconds before retrying...\n",
      "Request failed. Waiting for 2 seconds before retrying...\n",
      "Request failed. Waiting for 4 seconds before retrying...\n",
      "Request failed. Waiting for 1 seconds before retrying...\n",
      "Request failed. Waiting for 2 seconds before retrying...\n",
      "Request failed. Waiting for 4 seconds before retrying...\n",
      "Request failed. Waiting for 8 seconds before retrying...\n",
      "Request failed. Waiting for 1 seconds before retrying...\n",
      "Request failed. Waiting for 2 seconds before retrying...\n",
      "Request failed. Waiting for 1 seconds before retrying...\n"
     ]
    }
   ],
   "source": [
    "# Get a list of all image files in the source directory\n",
    "image_files = [f for f in os.listdir(source_folder_single_page) if f.endswith('.jpg')]\n",
    "\n",
    "for image_file in image_files:\n",
    "    # Getting the base64 string\n",
    "    base64_image = encode_image(os.path.join(source_folder_single_page, image_file))\n",
    "\n",
    "    headers = {\n",
    "        \"Content-Type\": \"application/json\",\n",
    "        \"Authorization\": f\"Bearer {api_key}\"\n",
    "    }\n",
    "\n",
    "    payload = {\n",
    "        \"model\": \"gpt-4-vision-preview\",\n",
    "        \"messages\": [\n",
    "          {\n",
    "            \"role\": \"user\",\n",
    "            \"content\": [\n",
    "              {\n",
    "                \"type\": \"text\",\n",
    "                \"text\": extraction_prompt\n",
    "              },\n",
    "              {\n",
    "                \"type\": \"image_url\",\n",
    "                \"image_url\": {\n",
    "                  \"url\": f\"data:image/jpeg;base64,{base64_image}\"\n",
    "                }\n",
    "              }\n",
    "            ]\n",
    "          }\n",
    "        ],\n",
    "        \"max_tokens\": MAX_TOKENS\n",
    "    }\n",
    "\n",
    "    for i in range(max_retries):\n",
    "        try:\n",
    "            response = requests.post(\"https://api.openai.com/v1/chat/completions\", headers=headers, json=payload)\n",
    "            response.raise_for_status()  # Raises a HTTPError if the status is 4xx, 5xx\n",
    "\n",
    "            # Extract the markdown from the response and save it to a file\n",
    "            markdown = json.loads(response.text)['choices'][0]['message']['content']\n",
    "            save_markdown(markdown, destination_folder)\n",
    "            break  # Break the loop if the request is successful\n",
    "        except requests.exceptions.RequestException:\n",
    "            wait_time = 2 ** i  # Exponential backoff\n",
    "            print(f\"Request failed. Waiting for {wait_time} seconds before retrying...\")\n",
    "            time.sleep(wait_time)\n",
    "    else:\n",
    "        print(f\"Failed to process image {image_file} after {max_retries} retries.\")"
   ]
  },
  {
   "cell_type": "markdown",
   "metadata": {},
   "source": [
    "## Process Multiple Page Recipes"
   ]
  },
  {
   "cell_type": "code",
   "execution_count": 7,
   "metadata": {},
   "outputs": [],
   "source": [
    "import glob\n",
    "\n",
    "# Get a list of all subfolders in the source directory\n",
    "recipe_folders = [f.path for f in os.scandir(source_folder_multi_page) if f.is_dir()]\n",
    "\n",
    "for recipe_folder in recipe_folders:\n",
    "    # Get a list of all image files in the recipe subfolder\n",
    "    image_files = glob.glob(os.path.join(recipe_folder, '*.jpg'))\n",
    "\n",
    "    # Prepare the messages for the API request\n",
    "    messages = [{\n",
    "        \"role\": \"user\",\n",
    "        \"content\": [\n",
    "            {\n",
    "                \"type\": \"text\",\n",
    "                \"text\": extraction_prompt\n",
    "            },\n",
    "        ]\n",
    "    }]\n",
    "    \n",
    "    headers = {\n",
    "        \"Content-Type\": \"application/json\",\n",
    "        \"Authorization\": f\"Bearer {api_key}\"\n",
    "    }\n",
    "\n",
    "    for image_file in image_files:\n",
    "        # Getting the base64 string\n",
    "        base64_image = encode_image(image_file)\n",
    "\n",
    "        # Add the image to the messages\n",
    "        messages[0][\"content\"].append({\n",
    "            \"type\": \"image_url\",\n",
    "            \"image_url\": {\n",
    "                \"url\": f\"data:image/jpeg;base64,{base64_image}\"\n",
    "            }\n",
    "        })\n",
    "\n",
    "    payload = {\n",
    "        \"model\": \"gpt-4-vision-preview\",\n",
    "        \"messages\": messages,\n",
    "        \"max_tokens\": MAX_TOKENS\n",
    "    }\n",
    "\n",
    "    for i in range(max_retries):\n",
    "        try:\n",
    "            response = requests.post(\"https://api.openai.com/v1/chat/completions\", headers=headers, json=payload)\n",
    "            response.raise_for_status()  # Raises a HTTPError if the status is 4xx, 5xx\n",
    "\n",
    "            # Extract the markdown from the response and save it to a file\n",
    "            markdown = json.loads(response.text)['choices'][0]['message']['content']\n",
    "            save_markdown(markdown, destination_folder)\n",
    "            break  # Break the loop if the request is successful\n",
    "        except requests.exceptions.RequestException:\n",
    "            wait_time = 2 ** i  # Exponential backoff\n",
    "            print(f\"Request failed. Waiting for {wait_time} seconds before retrying...\")\n",
    "            time.sleep(wait_time)\n",
    "    else:\n",
    "        print(f\"Failed to process image {image_file} after {max_retries} retries.\")"
   ]
  }
 ],
 "metadata": {
  "kernelspec": {
   "display_name": "base",
   "language": "python",
   "name": "python3"
  },
  "language_info": {
   "codemirror_mode": {
    "name": "ipython",
    "version": 3
   },
   "file_extension": ".py",
   "mimetype": "text/x-python",
   "name": "python",
   "nbconvert_exporter": "python",
   "pygments_lexer": "ipython3",
   "version": "3.9.13"
  }
 },
 "nbformat": 4,
 "nbformat_minor": 2
}
